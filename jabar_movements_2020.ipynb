{
  "nbformat": 4,
  "nbformat_minor": 0,
  "metadata": {
    "colab": {
      "name": "jabar-movements-2020.ipynb",
      "provenance": [],
      "collapsed_sections": [],
      "include_colab_link": true
    },
    "kernelspec": {
      "name": "python3",
      "display_name": "Python 3"
    },
    "accelerator": "GPU"
  },
  "cells": [
    {
      "cell_type": "markdown",
      "metadata": {
        "id": "view-in-github",
        "colab_type": "text"
      },
      "source": [
        "<a href=\"https://colab.research.google.com/github/ariefahshalihah/jabar-movement-2020/blob/main/jabar_movements_2020.ipynb\" target=\"_parent\"><img src=\"https://colab.research.google.com/assets/colab-badge.svg\" alt=\"Open In Colab\"/></a>"
      ]
    },
    {
      "cell_type": "markdown",
      "metadata": {
        "id": "hSyY_H-FR05j"
      },
      "source": [
        "# Forecasting JABAR Movement Range Maps 2020"
      ]
    },
    {
      "cell_type": "markdown",
      "metadata": {
        "id": "Lnddd9ayQhaK"
      },
      "source": [
        "Prediksi proporsi masyarakat Jawa Barat berada di rumah dalam 2 pekan\r\n",
        "\r\n",
        "**Source Dataset :**\r\n",
        "```\r\n",
        "Facebook Movement Range Maps\r\n",
        "\r\n",
        "This data includes movement changes measured by Facebook throughout March,\r\n",
        "April, May, and June 2020 starting from a baseline in February. Data is provided in one global tab-delimited text file.\r\n",
        "\r\n",
        "Columns\r\n",
        "\r\n",
        "- ds: Date stamp for movement range data row in YYYY-MM-DD form\r\n",
        "- country: Three-character ISO-3166 country code\r\n",
        "- polygon_source: Source of region polygon, either â€œFIPSâ€ for U.S. data or â€œGADMâ€ for global data\r\n",
        "- polygon_id: Unique identifier for region polygon, either numeric string for U.S. FIPS codes or alphanumeric string for GADM regions\r\n",
        "- polygon_name: Region name\r\n",
        "- all_day_bing_tiles_visited_relative_change: Positive or negative change in movement relative to baseline\r\n",
        "- all_day_ratio_single_tile_users: Positive proportion of users staying put within a single location\r\n",
        "- baseline_name: When\r\n",
        " baseline movement was calculated pre-COVID-19\r\n",
        "- baseline_type: How baseline movement was calculated pre-COVID-19\r\n",
        "\r\n",
        "https://data.humdata.org/dataset/movement-range-maps\r\n",
        "```\r\n",
        "\r\n"
      ]
    },
    {
      "cell_type": "markdown",
      "metadata": {
        "id": "5VLstEi5khzU"
      },
      "source": [
        "## Persiapan Data"
      ]
    },
    {
      "cell_type": "code",
      "metadata": {
        "colab": {
          "base_uri": "https://localhost:8080/"
        },
        "id": "FPxpJlVZ0hdR",
        "outputId": "8198eacb-2b71-403d-860b-12ea1f83e929"
      },
      "source": [
        "from google.colab import drive\n",
        "drive.mount('/content/drive')"
      ],
      "execution_count": 5,
      "outputs": [
        {
          "output_type": "stream",
          "text": [
            "Drive already mounted at /content/drive; to attempt to forcibly remount, call drive.mount(\"/content/drive\", force_remount=True).\n"
          ],
          "name": "stdout"
        }
      ]
    },
    {
      "cell_type": "code",
      "metadata": {
        "id": "7h6kmRYFRz19"
      },
      "source": [
        "# import zipfile,os\r\n",
        "\r\n",
        "# # Unduh dataset by !wget\r\n",
        "# !wget --no-check-certificate \\\r\n",
        "# https://data.humdata.org/dataset/c3429f0e-651b-4788-bb2f-4adbf222c90e/resource/55a51014-0d27-49ae-bf92-c82a570c2c6c/download/movement-range-data-2020-12-17.zip \\\r\n",
        "# -O /content/movement-range-data-2020-12-15.zip"
      ],
      "execution_count": 6,
      "outputs": []
    },
    {
      "cell_type": "code",
      "metadata": {
        "id": "zzl6droG-0Es"
      },
      "source": [
        "path = '/content/drive/MyDrive/Colab Notebooks/jds/data/'\n",
        "# zip_ref = zipfile.ZipFile(path + 'movement-range-data-2020-12-15.zip', 'r')\n",
        "# zip_ref.extractall(path)\n",
        "# zip_ref.close()"
      ],
      "execution_count": 7,
      "outputs": []
    },
    {
      "cell_type": "code",
      "metadata": {
        "id": "URCs_6oOTdVK",
        "colab": {
          "base_uri": "https://localhost:8080/",
          "height": 247
        },
        "outputId": "e66f50bd-85a0-4716-e724-0329a256daa1"
      },
      "source": [
        "import pandas as pd\r\n",
        "\r\n",
        "# Load Dataset\r\n",
        "name = 'movement-range-2020-12-17.txt'\r\n",
        "data = pd.read_csv(path + name, sep='\\t')\r\n",
        "\r\n",
        "IDN = data.loc[data['country']==\"IDN\"].reset_index()\r\n",
        "IDN.polygon_name = IDN.polygon_name.str.lower()\r\n",
        "IDN.head(3)"
      ],
      "execution_count": 8,
      "outputs": [
        {
          "output_type": "stream",
          "text": [
            "/usr/local/lib/python3.6/dist-packages/IPython/core/interactiveshell.py:2718: DtypeWarning: Columns (3) have mixed types.Specify dtype option on import or set low_memory=False.\n",
            "  interactivity=interactivity, compiler=compiler, result=result)\n"
          ],
          "name": "stderr"
        },
        {
          "output_type": "execute_result",
          "data": {
            "text/html": [
              "<div>\n",
              "<style scoped>\n",
              "    .dataframe tbody tr th:only-of-type {\n",
              "        vertical-align: middle;\n",
              "    }\n",
              "\n",
              "    .dataframe tbody tr th {\n",
              "        vertical-align: top;\n",
              "    }\n",
              "\n",
              "    .dataframe thead th {\n",
              "        text-align: right;\n",
              "    }\n",
              "</style>\n",
              "<table border=\"1\" class=\"dataframe\">\n",
              "  <thead>\n",
              "    <tr style=\"text-align: right;\">\n",
              "      <th></th>\n",
              "      <th>index</th>\n",
              "      <th>ds</th>\n",
              "      <th>country</th>\n",
              "      <th>polygon_source</th>\n",
              "      <th>polygon_id</th>\n",
              "      <th>polygon_name</th>\n",
              "      <th>all_day_bing_tiles_visited_relative_change</th>\n",
              "      <th>all_day_ratio_single_tile_users</th>\n",
              "      <th>baseline_name</th>\n",
              "      <th>baseline_type</th>\n",
              "    </tr>\n",
              "  </thead>\n",
              "  <tbody>\n",
              "    <tr>\n",
              "      <th>0</th>\n",
              "      <td>1875196</td>\n",
              "      <td>2020-03-01</td>\n",
              "      <td>IDN</td>\n",
              "      <td>GADM</td>\n",
              "      <td>IDN.1.10_1</td>\n",
              "      <td>aceh timur</td>\n",
              "      <td>-0.11398</td>\n",
              "      <td>0.21641</td>\n",
              "      <td>full_february</td>\n",
              "      <td>DAY_OF_WEEK</td>\n",
              "    </tr>\n",
              "    <tr>\n",
              "      <th>1</th>\n",
              "      <td>1875197</td>\n",
              "      <td>2020-03-02</td>\n",
              "      <td>IDN</td>\n",
              "      <td>GADM</td>\n",
              "      <td>IDN.1.10_1</td>\n",
              "      <td>aceh timur</td>\n",
              "      <td>-0.03722</td>\n",
              "      <td>0.18178</td>\n",
              "      <td>full_february</td>\n",
              "      <td>DAY_OF_WEEK</td>\n",
              "    </tr>\n",
              "    <tr>\n",
              "      <th>2</th>\n",
              "      <td>1875198</td>\n",
              "      <td>2020-03-03</td>\n",
              "      <td>IDN</td>\n",
              "      <td>GADM</td>\n",
              "      <td>IDN.1.10_1</td>\n",
              "      <td>aceh timur</td>\n",
              "      <td>0.09141</td>\n",
              "      <td>0.18373</td>\n",
              "      <td>full_february</td>\n",
              "      <td>DAY_OF_WEEK</td>\n",
              "    </tr>\n",
              "  </tbody>\n",
              "</table>\n",
              "</div>"
            ],
            "text/plain": [
              "     index          ds  ...  baseline_name baseline_type\n",
              "0  1875196  2020-03-01  ...  full_february   DAY_OF_WEEK\n",
              "1  1875197  2020-03-02  ...  full_february   DAY_OF_WEEK\n",
              "2  1875198  2020-03-03  ...  full_february   DAY_OF_WEEK\n",
              "\n",
              "[3 rows x 10 columns]"
            ]
          },
          "metadata": {
            "tags": []
          },
          "execution_count": 8
        }
      ]
    },
    {
      "cell_type": "code",
      "metadata": {
        "id": "J4fuOLW_g5rJ"
      },
      "source": [
        "# # LIST KAB/KOTA DI JABAR\r\n",
        "# # Source : 'https://data.jabarprov.go.id/dataset/luas-wilayah-provinsi-jawa-barat'\r\n",
        "\r\n",
        "# # Unduh data Jawa Barat by !wget\r\n",
        "# !wget --no-check-certificate \\\r\n",
        "# https://data.jabarprov.go.id/dataset/a8356698-0796-4c63-91f2-7130d2dc7b03/resource/086c40c3-0fae-40df-bd6d-3fc1a8388ea4/download/luas_wilayah.csv \\\r\n",
        "# -O /content/luas_wilayah.csv"
      ],
      "execution_count": 9,
      "outputs": []
    },
    {
      "cell_type": "code",
      "metadata": {
        "id": "mElDPFJmNy7u",
        "colab": {
          "base_uri": "https://localhost:8080/",
          "height": 204
        },
        "outputId": "dd560a2f-87fa-46b7-c8f3-d51f25d6db6a"
      },
      "source": [
        "luas_wilayah = pd.read_csv(path + 'luas_wilayah.csv', sep=',')\n",
        "kota_kab = pd.DataFrame(luas_wilayah['nama_kabupaten']).applymap(str.lower).drop_duplicates()\n",
        "kota_kab = kota_kab.sort_values(by=['nama_kabupaten']).reset_index(drop=True)\n",
        "\n",
        "kota_kab.head(5)"
      ],
      "execution_count": 10,
      "outputs": [
        {
          "output_type": "execute_result",
          "data": {
            "text/html": [
              "<div>\n",
              "<style scoped>\n",
              "    .dataframe tbody tr th:only-of-type {\n",
              "        vertical-align: middle;\n",
              "    }\n",
              "\n",
              "    .dataframe tbody tr th {\n",
              "        vertical-align: top;\n",
              "    }\n",
              "\n",
              "    .dataframe thead th {\n",
              "        text-align: right;\n",
              "    }\n",
              "</style>\n",
              "<table border=\"1\" class=\"dataframe\">\n",
              "  <thead>\n",
              "    <tr style=\"text-align: right;\">\n",
              "      <th></th>\n",
              "      <th>nama_kabupaten</th>\n",
              "    </tr>\n",
              "  </thead>\n",
              "  <tbody>\n",
              "    <tr>\n",
              "      <th>0</th>\n",
              "      <td>bandung</td>\n",
              "    </tr>\n",
              "    <tr>\n",
              "      <th>1</th>\n",
              "      <td>bandung barat</td>\n",
              "    </tr>\n",
              "    <tr>\n",
              "      <th>2</th>\n",
              "      <td>bekasi</td>\n",
              "    </tr>\n",
              "    <tr>\n",
              "      <th>3</th>\n",
              "      <td>bogor</td>\n",
              "    </tr>\n",
              "    <tr>\n",
              "      <th>4</th>\n",
              "      <td>ciamis</td>\n",
              "    </tr>\n",
              "  </tbody>\n",
              "</table>\n",
              "</div>"
            ],
            "text/plain": [
              "  nama_kabupaten\n",
              "0        bandung\n",
              "1  bandung barat\n",
              "2         bekasi\n",
              "3          bogor\n",
              "4         ciamis"
            ]
          },
          "metadata": {
            "tags": []
          },
          "execution_count": 10
        }
      ]
    },
    {
      "cell_type": "code",
      "metadata": {
        "id": "6eFlNxcRMjKf",
        "colab": {
          "base_uri": "https://localhost:8080/",
          "height": 309
        },
        "outputId": "0e652325-0aeb-4e69-d9c4-53cfec93d204"
      },
      "source": [
        "# MENCARI DATA MOVEMENT KHUSUS DAERAH JABAR\n",
        "check = IDN.polygon_name.isin([item[0] for item in kota_kab.values.tolist()])\n",
        "dataset_jabar = IDN[check]\n",
        "\n",
        "# simpan dataset\n",
        "save_path = path + 'movement-range-jabar-2020.csv'\n",
        "dataset_jabar.to_csv(save_path, sep='\\t')\n",
        "\n",
        "dataset_jabar.head(5)"
      ],
      "execution_count": 11,
      "outputs": [
        {
          "output_type": "execute_result",
          "data": {
            "text/html": [
              "<div>\n",
              "<style scoped>\n",
              "    .dataframe tbody tr th:only-of-type {\n",
              "        vertical-align: middle;\n",
              "    }\n",
              "\n",
              "    .dataframe tbody tr th {\n",
              "        vertical-align: top;\n",
              "    }\n",
              "\n",
              "    .dataframe thead th {\n",
              "        text-align: right;\n",
              "    }\n",
              "</style>\n",
              "<table border=\"1\" class=\"dataframe\">\n",
              "  <thead>\n",
              "    <tr style=\"text-align: right;\">\n",
              "      <th></th>\n",
              "      <th>index</th>\n",
              "      <th>ds</th>\n",
              "      <th>country</th>\n",
              "      <th>polygon_source</th>\n",
              "      <th>polygon_id</th>\n",
              "      <th>polygon_name</th>\n",
              "      <th>all_day_bing_tiles_visited_relative_change</th>\n",
              "      <th>all_day_ratio_single_tile_users</th>\n",
              "      <th>baseline_name</th>\n",
              "      <th>baseline_type</th>\n",
              "    </tr>\n",
              "  </thead>\n",
              "  <tbody>\n",
              "    <tr>\n",
              "      <th>133041</th>\n",
              "      <td>2008237</td>\n",
              "      <td>2020-03-01</td>\n",
              "      <td>IDN</td>\n",
              "      <td>GADM</td>\n",
              "      <td>IDN.9.11_1</td>\n",
              "      <td>garut</td>\n",
              "      <td>0.02800</td>\n",
              "      <td>0.19507</td>\n",
              "      <td>full_february</td>\n",
              "      <td>DAY_OF_WEEK</td>\n",
              "    </tr>\n",
              "    <tr>\n",
              "      <th>133042</th>\n",
              "      <td>2008238</td>\n",
              "      <td>2020-03-02</td>\n",
              "      <td>IDN</td>\n",
              "      <td>GADM</td>\n",
              "      <td>IDN.9.11_1</td>\n",
              "      <td>garut</td>\n",
              "      <td>0.10211</td>\n",
              "      <td>0.16435</td>\n",
              "      <td>full_february</td>\n",
              "      <td>DAY_OF_WEEK</td>\n",
              "    </tr>\n",
              "    <tr>\n",
              "      <th>133043</th>\n",
              "      <td>2008239</td>\n",
              "      <td>2020-03-03</td>\n",
              "      <td>IDN</td>\n",
              "      <td>GADM</td>\n",
              "      <td>IDN.9.11_1</td>\n",
              "      <td>garut</td>\n",
              "      <td>0.06861</td>\n",
              "      <td>0.18144</td>\n",
              "      <td>full_february</td>\n",
              "      <td>DAY_OF_WEEK</td>\n",
              "    </tr>\n",
              "    <tr>\n",
              "      <th>133044</th>\n",
              "      <td>2008240</td>\n",
              "      <td>2020-03-04</td>\n",
              "      <td>IDN</td>\n",
              "      <td>GADM</td>\n",
              "      <td>IDN.9.11_1</td>\n",
              "      <td>garut</td>\n",
              "      <td>0.00029</td>\n",
              "      <td>0.19883</td>\n",
              "      <td>full_february</td>\n",
              "      <td>DAY_OF_WEEK</td>\n",
              "    </tr>\n",
              "    <tr>\n",
              "      <th>133045</th>\n",
              "      <td>2008241</td>\n",
              "      <td>2020-03-05</td>\n",
              "      <td>IDN</td>\n",
              "      <td>GADM</td>\n",
              "      <td>IDN.9.11_1</td>\n",
              "      <td>garut</td>\n",
              "      <td>0.00264</td>\n",
              "      <td>0.19089</td>\n",
              "      <td>full_february</td>\n",
              "      <td>DAY_OF_WEEK</td>\n",
              "    </tr>\n",
              "  </tbody>\n",
              "</table>\n",
              "</div>"
            ],
            "text/plain": [
              "          index          ds  ...  baseline_name baseline_type\n",
              "133041  2008237  2020-03-01  ...  full_february   DAY_OF_WEEK\n",
              "133042  2008238  2020-03-02  ...  full_february   DAY_OF_WEEK\n",
              "133043  2008239  2020-03-03  ...  full_february   DAY_OF_WEEK\n",
              "133044  2008240  2020-03-04  ...  full_february   DAY_OF_WEEK\n",
              "133045  2008241  2020-03-05  ...  full_february   DAY_OF_WEEK\n",
              "\n",
              "[5 rows x 10 columns]"
            ]
          },
          "metadata": {
            "tags": []
          },
          "execution_count": 11
        }
      ]
    },
    {
      "cell_type": "markdown",
      "metadata": {
        "id": "6hqD4MnmkrAe"
      },
      "source": [
        "## Pra-Proses"
      ]
    }
  ]
}